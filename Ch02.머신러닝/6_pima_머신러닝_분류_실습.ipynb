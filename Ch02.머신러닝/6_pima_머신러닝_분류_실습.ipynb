{
  "nbformat": 4,
  "nbformat_minor": 0,
  "metadata": {
    "colab": {
      "name": "6_pima 머신러닝 분류 실습.ipynb",
      "provenance": [],
      "collapsed_sections": [],
      "mount_file_id": "1cP6ZeeKHeZItPQfxcylavzHtf4uw0sDT",
      "authorship_tag": "ABX9TyOuV/H6UMltgOJZP3rN+fpr",
      "include_colab_link": true
    },
    "kernelspec": {
      "name": "python3",
      "display_name": "Python 3"
    },
    "language_info": {
      "name": "python"
    }
  },
  "cells": [
    {
      "cell_type": "markdown",
      "metadata": {
        "id": "view-in-github",
        "colab_type": "text"
      },
      "source": [
        "<a href=\"https://colab.research.google.com/github/DubblePos/Colab/blob/main/Ch02.%EB%A8%B8%EC%8B%A0%EB%9F%AC%EB%8B%9D/6_pima_%EB%A8%B8%EC%8B%A0%EB%9F%AC%EB%8B%9D_%EB%B6%84%EB%A5%98_%EC%8B%A4%EC%8A%B5.ipynb\" target=\"_parent\"><img src=\"https://colab.research.google.com/assets/colab-badge.svg\" alt=\"Open In Colab\"/></a>"
      ]
    },
    {
      "cell_type": "code",
      "metadata": {
        "id": "uG6gMGRQgqOd"
      },
      "source": [
        "\"\"\"\n",
        "날짜 : 2021/10/19 \n",
        "이름 : 박승필\n",
        "내용 : pima 머신러닝 분류 실습하기\n",
        "\"\"\"\n",
        "import pandas as pd\n",
        "from sklearn.linear_model import LogisticRegression\n",
        "from sklearn.model_selection import train_test_split\n",
        "from sklearn import metrics"
      ],
      "execution_count": null,
      "outputs": []
    },
    {
      "cell_type": "code",
      "metadata": {
        "id": "ZzKJuR2-jU07"
      },
      "source": [
        "# 데이터 불러오기\n",
        "df_pima = pd.read_csv('/content/drive/MyDrive/Colab Notebooks/file/pima-indians-diabetes.csv', header=None)\n",
        "df_pima"
      ],
      "execution_count": null,
      "outputs": []
    },
    {
      "cell_type": "code",
      "metadata": {
        "id": "_XlI7rY1kxsb"
      },
      "source": [
        "# 학습데이터, 학습 라벨\n",
        "pima_data =  df_pima.iloc[:, 0:8]\n",
        "pima_label = df_pima.iloc[:, 8]\n",
        "\n",
        "train_data, test_data, train_label, test_label =  train_test_split(pima_data, pima_label)"
      ],
      "execution_count": null,
      "outputs": []
    },
    {
      "cell_type": "code",
      "metadata": {
        "id": "KFoqwIIqlgOQ"
      },
      "source": [
        "# 학습하기\n",
        "model = LogisticRegression()\n",
        "model.fit(train_data, train_label)"
      ],
      "execution_count": null,
      "outputs": []
    },
    {
      "cell_type": "code",
      "metadata": {
        "id": "rpaMzEK8ln5A"
      },
      "source": [
        "# 테스트하기\n",
        "result =  model.predict(test_data)"
      ],
      "execution_count": null,
      "outputs": []
    },
    {
      "cell_type": "code",
      "metadata": {
        "colab": {
          "base_uri": "https://localhost:8080/"
        },
        "id": "e9gjnQ3RmOQp",
        "outputId": "53ff7f6e-1a67-4dfa-df7c-7da608e953a0"
      },
      "source": [
        "# 성능평가\n",
        "score = metrics.accuracy_score(result, test_label)\n",
        "score"
      ],
      "execution_count": null,
      "outputs": [
        {
          "output_type": "execute_result",
          "data": {
            "text/plain": [
              "0.78125"
            ]
          },
          "metadata": {},
          "execution_count": 17
        }
      ]
    }
  ]
}