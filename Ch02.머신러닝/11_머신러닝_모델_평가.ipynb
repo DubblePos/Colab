{
  "nbformat": 4,
  "nbformat_minor": 0,
  "metadata": {
    "colab": {
      "name": "11_머신러닝_모델 평가.ipynb",
      "provenance": [],
      "collapsed_sections": [],
      "mount_file_id": "1UkCyNy0HZe3F9Uwhg0F15KfmlL2L0egJ",
      "authorship_tag": "ABX9TyMLLZ0QkfVrWZmqE1i2pzOQ",
      "include_colab_link": true
    },
    "kernelspec": {
      "name": "python3",
      "display_name": "Python 3"
    },
    "language_info": {
      "name": "python"
    }
  },
  "cells": [
    {
      "cell_type": "markdown",
      "metadata": {
        "id": "view-in-github",
        "colab_type": "text"
      },
      "source": [
        "<a href=\"https://colab.research.google.com/github/DubblePos/Colab/blob/main/Ch02.%EB%A8%B8%EC%8B%A0%EB%9F%AC%EB%8B%9D/11_%EB%A8%B8%EC%8B%A0%EB%9F%AC%EB%8B%9D_%EB%AA%A8%EB%8D%B8_%ED%8F%89%EA%B0%80.ipynb\" target=\"_parent\"><img src=\"https://colab.research.google.com/assets/colab-badge.svg\" alt=\"Open In Colab\"/></a>"
      ]
    },
    {
      "cell_type": "code",
      "metadata": {
        "id": "b7ZhYHXRxL2s"
      },
      "source": [
        "\"\"\"\n",
        "날짜 : 2021/10/21\n",
        "이름 : 박승필\n",
        "내용 : 머신러닝 모델 평가 실습 \n",
        "\"\"\"\n",
        "import pandas as pd\n",
        "from sklearn import svm, metrics, model_selection\n",
        "from sklearn.ensemble import RandomForestClassifier\n",
        "from sklearn.model_selection import train_test_split, cross_val_score\n",
        "from sklearn.metrics import confusion_matrix\n",
        "from sklearn.metrics import classification_report"
      ],
      "execution_count": null,
      "outputs": []
    },
    {
      "cell_type": "code",
      "metadata": {
        "id": "6wrsWtCI0DkU"
      },
      "source": [
        "# 데이터 불러오기\n",
        "df_iris = pd.read_csv('/content/drive/MyDrive/Colab Notebooks/file/iris.csv')\n",
        "df_iris"
      ],
      "execution_count": null,
      "outputs": []
    },
    {
      "cell_type": "code",
      "metadata": {
        "id": "tCASAzML0cVk"
      },
      "source": [
        "# 훈련 데이터\n",
        "iris_data = df_iris.iloc[:, 0:4]\n",
        "iris_label = df_iris.iloc[:, 4]\n",
        "\n",
        "train_data, test_data, train_label, test_label = train_test_split(iris_data, iris_label, test_size=0.01)\n",
        "train_data.shape"
      ],
      "execution_count": null,
      "outputs": []
    },
    {
      "cell_type": "code",
      "metadata": {
        "id": "Y_oJPQRO0958"
      },
      "source": [
        "# 학습하기\n",
        "model1 = svm.SVC()\n",
        "model2 = RandomForestClassifier()\n",
        "\n",
        "model1.fit(train_data, train_label)\n",
        "model2.fit(train_data, train_label)"
      ],
      "execution_count": null,
      "outputs": []
    },
    {
      "cell_type": "code",
      "metadata": {
        "id": "TVBxfzQ91RC1"
      },
      "source": [
        "# 테스트하기\n",
        "result_model1 = model1.predict(test_data)\n",
        "result_model2 = model2.predict(test_data)"
      ],
      "execution_count": null,
      "outputs": []
    },
    {
      "cell_type": "code",
      "metadata": {
        "id": "3hOqDB3m1agc"
      },
      "source": [
        "# 모델 평가1 - 정확도(Accuracy) 확인\n",
        "score1 = metrics.accuracy_score(test_label, result_model1)\n",
        "score2 = metrics.accuracy_score(test_label, result_model2)\n",
        "print('score1 : ', score1)\n",
        "print('score2 : ', score2)"
      ],
      "execution_count": null,
      "outputs": []
    },
    {
      "cell_type": "code",
      "metadata": {
        "id": "ZYYQPmv02gZN"
      },
      "source": [
        "# 모델평가2 - 혼돈행렬 평가\n",
        "cm1 = confusion_matrix(test_label, result_model1)\n",
        "cm2 = confusion_matrix(test_label, result_model2)\n",
        "print('cm1')\n",
        "print(cm1)\n",
        "print('cm2')\n",
        "print(cm2)\n",
        "\n",
        "cr1 = classification_report(test_label, result_model1, target_names=['setosa','versicolor','virginica'])\n",
        "cr2 = classification_report(test_label, result_model2, target_names=['setosa','versicolor','virginica'])\n",
        "print(cr1)\n",
        "print(cr2)"
      ],
      "execution_count": null,
      "outputs": []
    },
    {
      "cell_type": "code",
      "metadata": {
        "id": "-o2laIf2288M"
      },
      "source": [
        "# 모델평가3 - K-교차검증 평가\n",
        "score1 = cross_val_score(model1, train_data, train_label, cv=5)\n",
        "score2 = cross_val_score(model2, train_data, train_label, cv=5)\n",
        "print(score1)\n",
        "print(score2)"
      ],
      "execution_count": null,
      "outputs": []
    }
  ]
}