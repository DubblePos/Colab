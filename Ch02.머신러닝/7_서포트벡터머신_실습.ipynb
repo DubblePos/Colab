{
  "nbformat": 4,
  "nbformat_minor": 0,
  "metadata": {
    "colab": {
      "name": "7_서포트벡터머신 실습.ipynb",
      "provenance": [],
      "collapsed_sections": [],
      "mount_file_id": "1WW1K5GtWPpy_OA1g5uW9YG_T_anaoi5-",
      "authorship_tag": "ABX9TyNXmovRnIztNkINDxDbK74U",
      "include_colab_link": true
    },
    "kernelspec": {
      "name": "python3",
      "display_name": "Python 3"
    },
    "language_info": {
      "name": "python"
    }
  },
  "cells": [
    {
      "cell_type": "markdown",
      "metadata": {
        "id": "view-in-github",
        "colab_type": "text"
      },
      "source": [
        "<a href=\"https://colab.research.google.com/github/DubblePos/Colab/blob/main/Ch02.%EB%A8%B8%EC%8B%A0%EB%9F%AC%EB%8B%9D/7_%EC%84%9C%ED%8F%AC%ED%8A%B8%EB%B2%A1%ED%84%B0%EB%A8%B8%EC%8B%A0_%EC%8B%A4%EC%8A%B5.ipynb\" target=\"_parent\"><img src=\"https://colab.research.google.com/assets/colab-badge.svg\" alt=\"Open In Colab\"/></a>"
      ]
    },
    {
      "cell_type": "code",
      "metadata": {
        "id": "WSM-ymkXPQLX"
      },
      "source": [
        "\"\"\"\n",
        "날짜 : 2021/10/20\n",
        "이름 : 박승필\n",
        "내용 : 서포트벡터머신 실습하기\n",
        "\"\"\"\n",
        "import pandas as pd\n",
        "from sklearn import svm, metrics\n",
        "from sklearn.linear_model import LogisticRegression\n",
        "from sklearn.model_selection import train_test_split"
      ],
      "execution_count": null,
      "outputs": []
    },
    {
      "cell_type": "code",
      "metadata": {
        "id": "bRXisr7oPYy5"
      },
      "source": [
        "########### XOR 머신러닝 ###########\n",
        "train_data = [[0, 0], [0, 1], [1, 0], [1, 1]]\n",
        "train_label = [0, 1, 1, 0]"
      ],
      "execution_count": null,
      "outputs": []
    },
    {
      "cell_type": "code",
      "metadata": {
        "id": "6c_A4OVGQ4VP"
      },
      "source": [
        "# 학습하기\n",
        "#model = svm.SVC()\n",
        "model = LogisticRegression()\n",
        "model.fit(train_data, train_label)"
      ],
      "execution_count": null,
      "outputs": []
    },
    {
      "cell_type": "code",
      "metadata": {
        "id": "xQfdC1LbRFQg"
      },
      "source": [
        "# 테스트하기\n",
        "test_data = [[0, 1], [1, 1], [1, 0]]\n",
        "result = model.predict(test_data)\n",
        "result"
      ],
      "execution_count": null,
      "outputs": []
    },
    {
      "cell_type": "code",
      "metadata": {
        "id": "ALns2CUKR9Rx"
      },
      "source": [
        "########### iris 머신러닝 ###########\n",
        "# 데이터 불러오기\n",
        "df_iris = pd.read_csv('/content/drive/MyDrive/Colab Notebooks/file/iris.csv')\n",
        "df_iris"
      ],
      "execution_count": null,
      "outputs": []
    },
    {
      "cell_type": "code",
      "metadata": {
        "id": "W2IYc-N3SAjo"
      },
      "source": [
        "# 학습 데이터\n",
        "iris_data = df_iris.iloc[:,0:4]\n",
        "iris_label = df_iris.iloc[:,4]\n",
        "iris_data\n",
        "\n",
        "train_data, test_data, train_label, test_label = train_test_split(iris_data, iris_label)\n",
        "train_data"
      ],
      "execution_count": null,
      "outputs": []
    },
    {
      "cell_type": "code",
      "metadata": {
        "id": "mRjTBTgTSCHJ"
      },
      "source": [
        "# 학습하기\n",
        "model = svm.SVC()\n",
        "model.fit(train_data, train_label)"
      ],
      "execution_count": null,
      "outputs": []
    },
    {
      "cell_type": "code",
      "metadata": {
        "id": "J71cRPl0SDNI"
      },
      "source": [
        "# 테스트하기\n",
        "result = model.predict(test_data)"
      ],
      "execution_count": null,
      "outputs": []
    },
    {
      "cell_type": "code",
      "metadata": {
        "colab": {
          "base_uri": "https://localhost:8080/"
        },
        "id": "gz9-SUjlSEhI",
        "outputId": "3d9e0a44-ef76-44d4-a421-3d68cb140a38"
      },
      "source": [
        "# 성능평가\n",
        "score = metrics.accuracy_score(result, test_label)\n",
        "score\n"
      ],
      "execution_count": null,
      "outputs": [
        {
          "output_type": "execute_result",
          "data": {
            "text/plain": [
              "0.9210526315789473"
            ]
          },
          "metadata": {},
          "execution_count": 31
        }
      ]
    },
    {
      "cell_type": "code",
      "metadata": {
        "id": "7OuEbUnnVAva"
      },
      "source": [
        "########### pima 머신러닝 ###########\n",
        "# 데이터 불러오기\n",
        "df_pima= pd.read_csv('/content/drive/MyDrive/Colab Notebooks/file/pima-indians-diabetes.csv', header=None)\n",
        "df_pima"
      ],
      "execution_count": null,
      "outputs": []
    },
    {
      "cell_type": "code",
      "metadata": {
        "id": "i8aUz6-XVECn"
      },
      "source": [
        "# 학습데이터\n",
        "pima_data = df_pima.iloc[:,0:8]\n",
        "pima_label = df_pima.iloc[:,8]\n",
        "pima_data\n",
        "\n",
        "train_data, test_data, train_label, test_label = train_test_split(pima_data, pima_label)\n",
        "train_data"
      ],
      "execution_count": null,
      "outputs": []
    },
    {
      "cell_type": "code",
      "metadata": {
        "colab": {
          "base_uri": "https://localhost:8080/"
        },
        "id": "iSOJWI4aVE34",
        "outputId": "827f9f04-1a22-4d70-b02d-f7d8c43ebe64"
      },
      "source": [
        "# 학습하기\n",
        "model = svm.SVC(kernel='linear')\n",
        "model.fit(train_data, train_label)"
      ],
      "execution_count": null,
      "outputs": [
        {
          "output_type": "execute_result",
          "data": {
            "text/plain": [
              "SVC(C=1.0, break_ties=False, cache_size=200, class_weight=None, coef0=0.0,\n",
              "    decision_function_shape='ovr', degree=3, gamma='scale', kernel='linear',\n",
              "    max_iter=-1, probability=False, random_state=None, shrinking=True,\n",
              "    tol=0.001, verbose=False)"
            ]
          },
          "metadata": {},
          "execution_count": 42
        }
      ]
    },
    {
      "cell_type": "code",
      "metadata": {
        "id": "cN3H4O11VFz4"
      },
      "source": [
        "# 테스트하기\n",
        "result1 = model.predict(test_data)"
      ],
      "execution_count": null,
      "outputs": []
    },
    {
      "cell_type": "code",
      "metadata": {
        "colab": {
          "base_uri": "https://localhost:8080/"
        },
        "id": "PJFqiTD4VG-v",
        "outputId": "9a8b85be-4b69-4438-d193-a104f6ca0fd3"
      },
      "source": [
        "# 성능평가\n",
        "score = metrics.accuracy_score(result1, test_label)\n",
        "score"
      ],
      "execution_count": null,
      "outputs": [
        {
          "output_type": "execute_result",
          "data": {
            "text/plain": [
              "0.7291666666666666"
            ]
          },
          "metadata": {},
          "execution_count": 44
        }
      ]
    }
  ]
}