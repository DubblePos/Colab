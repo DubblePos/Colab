{
  "nbformat": 4,
  "nbformat_minor": 0,
  "metadata": {
    "colab": {
      "name": "9_결정트리 실습.ipynb",
      "provenance": [],
      "collapsed_sections": [],
      "mount_file_id": "1ZmyoaFw9aRx8gNePhdvoeYdQvSGpAy68",
      "authorship_tag": "ABX9TyO0tzwqyD47Fs21vWzOkvFt",
      "include_colab_link": true
    },
    "kernelspec": {
      "name": "python3",
      "display_name": "Python 3"
    },
    "language_info": {
      "name": "python"
    }
  },
  "cells": [
    {
      "cell_type": "markdown",
      "metadata": {
        "id": "view-in-github",
        "colab_type": "text"
      },
      "source": [
        "<a href=\"https://colab.research.google.com/github/DubblePos/Colab/blob/main/Ch02.%EB%A8%B8%EC%8B%A0%EB%9F%AC%EB%8B%9D/9_%EA%B2%B0%EC%A0%95%ED%8A%B8%EB%A6%AC_%EC%8B%A4%EC%8A%B5.ipynb\" target=\"_parent\"><img src=\"https://colab.research.google.com/assets/colab-badge.svg\" alt=\"Open In Colab\"/></a>"
      ]
    },
    {
      "cell_type": "code",
      "metadata": {
        "id": "yttkUiNQpfmw"
      },
      "source": [
        "\"\"\"\n",
        "날짜 : 2021/10/20\n",
        "이름 : 박승필\n",
        "내용 : 결정트리 실습하기\n",
        "\"\"\"\n",
        "import pandas as pd\n",
        "import numpy as np\n",
        "import matplotlib.pyplot as plt\n",
        "from sklearn import tree, metrics\n",
        "import pydotplus\n",
        "from sklearn.model_selection import train_test_split"
      ],
      "execution_count": null,
      "outputs": []
    },
    {
      "cell_type": "code",
      "metadata": {
        "id": "YRpvLGQzpvZA"
      },
      "source": [
        "# 데이터 불러오기\n",
        "df_iris = pd.read_csv('/content/drive/MyDrive/Colab Notebooks/file/iris.csv')\n",
        "df_iris"
      ],
      "execution_count": null,
      "outputs": []
    },
    {
      "cell_type": "code",
      "metadata": {
        "id": "u-P-nuRfqRb3"
      },
      "source": [
        "# 학습데이터\n",
        "iris_train_data = df_iris.iloc[:, 0:4]\n",
        "iris_train_label = df_iris.iloc[:, 4]\n",
        "iris_train_label\n",
        "\n",
        "train_data, test_data, train_label, test_label = train_test_split(iris_train_data, iris_train_label)\n",
        "train_data"
      ],
      "execution_count": null,
      "outputs": []
    },
    {
      "cell_type": "code",
      "metadata": {
        "id": "dWYvbNtCqgdP"
      },
      "source": [
        "# 학습하기\n",
        "model = tree.DecisionTreeClassifier()\n",
        "model.fit(train_data, train_label)"
      ],
      "execution_count": null,
      "outputs": []
    },
    {
      "cell_type": "code",
      "metadata": {
        "id": "kMqUKlDorFnj"
      },
      "source": [
        "# 테스트하기\n",
        "result = model.predict(test_data)"
      ],
      "execution_count": null,
      "outputs": []
    },
    {
      "cell_type": "code",
      "metadata": {
        "id": "v04lhONGrJ0_"
      },
      "source": [
        "# 성능평가\n",
        "score = metrics.accuracy_score(result, test_label)\n",
        "score"
      ],
      "execution_count": null,
      "outputs": []
    },
    {
      "cell_type": "code",
      "metadata": {
        "id": "IAoFGtYvrdof"
      },
      "source": [
        "# 모델 설명 확인\n",
        "model_text = tree.export_text(model)\n",
        "print(model_text)"
      ],
      "execution_count": null,
      "outputs": []
    },
    {
      "cell_type": "code",
      "metadata": {
        "id": "OCK6Mxysr0og"
      },
      "source": [
        "# 모델 시각화\n",
        "fig = plt.figure(figsize=(12, 12))\n",
        "tree.plot_tree(model, \n",
        "               feature_names=['sepal.length', 'sepal.width', 'petal.length', 'petal.width'], \n",
        "               class_names=['Setosa','Virsicolor','Virginica'],\n",
        "               filled=True)"
      ],
      "execution_count": null,
      "outputs": []
    }
  ]
}