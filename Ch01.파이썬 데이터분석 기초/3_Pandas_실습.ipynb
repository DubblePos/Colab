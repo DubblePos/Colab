{
  "nbformat": 4,
  "nbformat_minor": 0,
  "metadata": {
    "colab": {
      "name": "3_Pandas 실습.ipynb",
      "provenance": [],
      "collapsed_sections": [],
      "mount_file_id": "11Hxo0pAzvgll15nrjZK9JyBzDbdTSbe4",
      "authorship_tag": "ABX9TyO6ddFW/etTFTB8usRhlkPC",
      "include_colab_link": true
    },
    "kernelspec": {
      "name": "python3",
      "display_name": "Python 3"
    },
    "language_info": {
      "name": "python"
    }
  },
  "cells": [
    {
      "cell_type": "markdown",
      "metadata": {
        "id": "view-in-github",
        "colab_type": "text"
      },
      "source": [
        "<a href=\"https://colab.research.google.com/github/DubblePos/Colab/blob/main/Ch01.%ED%8C%8C%EC%9D%B4%EC%8D%AC%20%EB%8D%B0%EC%9D%B4%ED%84%B0%EB%B6%84%EC%84%9D%20%EA%B8%B0%EC%B4%88/3_Pandas_%EC%8B%A4%EC%8A%B5.ipynb\" target=\"_parent\"><img src=\"https://colab.research.google.com/assets/colab-badge.svg\" alt=\"Open In Colab\"/></a>"
      ]
    },
    {
      "cell_type": "code",
      "metadata": {
        "id": "Hpebg38gJBCd"
      },
      "source": [
        "\"\"\"\n",
        "날짜 : 2021/10/18\n",
        "이름 : 박승필\n",
        "내용 : 파이썬 Pandas 실습하기\n",
        "\n",
        "Pandas 라이브러리\n",
        " - 파이썬 데이터 분석에 사용되는 DataFrame 자료구조를 지원하는 패키지\n",
        " - DataFrame을 가공, 처리를 지원하는 패키지\n",
        "\"\"\"\n",
        "import pandas as pd"
      ],
      "execution_count": null,
      "outputs": []
    },
    {
      "cell_type": "code",
      "metadata": {
        "id": "3zyrjtaUJl5O"
      },
      "source": [
        "# DataFrame 생성\n",
        "df1 = pd.DataFrame([[1, 2, 3], [4, 5, 6], [7, 8, 9]])\n",
        "df1"
      ],
      "execution_count": null,
      "outputs": []
    },
    {
      "cell_type": "code",
      "metadata": {
        "id": "bhaOem4IJ7--"
      },
      "source": [
        "# 컬럼명을 갖는 DataFrame\n",
        "df2 = pd.DataFrame({'uid':['a101','a102','a103','a104','a105'],\n",
        "                    'name':['김유신', '김춘추', '장보고', '강감찬', '이순신'],\n",
        "                    'age':[25, 21, 32, 41, 52]})\n",
        "df2"
      ],
      "execution_count": null,
      "outputs": []
    },
    {
      "cell_type": "code",
      "metadata": {
        "id": "eEWSTrkzKitG"
      },
      "source": [
        "# DataFrame 출력\n",
        "print(df1[0][0])\n",
        "print(df1[0][1])\n",
        "print(df1[1][2])\n",
        "print(df2['uid'][0])\n",
        "print(df2['name'][1])\n",
        "print(df2['name'][4])"
      ],
      "execution_count": null,
      "outputs": []
    },
    {
      "cell_type": "code",
      "metadata": {
        "id": "p66QR_1MMM7-"
      },
      "source": [
        "# CSV파일 DataFrame 불러오기\n",
        "df_exam = pd.read_csv('/content/drive/MyDrive/Colab Notebooks/file/exam.csv')\n",
        "df_exam"
      ],
      "execution_count": null,
      "outputs": []
    },
    {
      "cell_type": "code",
      "metadata": {
        "id": "SB9YT4cINZAH"
      },
      "source": [
        "# 기본 요약 통계\n",
        "df_exam.describe()"
      ],
      "execution_count": null,
      "outputs": []
    },
    {
      "cell_type": "code",
      "metadata": {
        "id": "J0CDH5_JNa4v"
      },
      "source": [
        "# 상위 5개\n",
        "df_exam.head()"
      ],
      "execution_count": null,
      "outputs": []
    },
    {
      "cell_type": "code",
      "metadata": {
        "id": "6FZ7L9HJNb7W"
      },
      "source": [
        "# 하위 5개\n",
        "df_exam.tail()"
      ],
      "execution_count": null,
      "outputs": []
    },
    {
      "cell_type": "code",
      "metadata": {
        "id": "P2pHcqqvNdQW"
      },
      "source": [
        "# DataFrame 인덱싱\n",
        "# loc - 컬럼명 기반 인덱싱\n",
        "df_math = df_exam.loc[:, 'math']\n",
        "print(df_math)\n",
        "\n",
        "df_r1 = df_exam.loc[1:3, :]\n",
        "print(df_r1)\n",
        "\n",
        "df_r2 = df_exam.loc[1:4, ['math','english']]\n",
        "print(df_r2)\n",
        "\n",
        "df_r3 = df_exam.loc[10:, ['math','english', 'science']]\n",
        "print(df_r3)\n",
        "\n",
        "# iloc - 인덱스 기반 인덱싱\n",
        "df_r4 = df_exam.iloc[1:5, 2:4]\n",
        "print(df_r4)"
      ],
      "execution_count": null,
      "outputs": []
    },
    {
      "cell_type": "code",
      "metadata": {
        "id": "VDGFuhMgNfqO"
      },
      "source": [
        "# 수학점수 60점 이상 출력\n",
        "df_exam[df_exam.math >= 60]"
      ],
      "execution_count": null,
      "outputs": []
    },
    {
      "cell_type": "code",
      "metadata": {
        "id": "omu5DmRzNifG"
      },
      "source": [
        "# 수학점수 내림차순\n",
        "df_exam.sort_values(by='math', ascending=False)"
      ],
      "execution_count": null,
      "outputs": []
    },
    {
      "cell_type": "code",
      "metadata": {
        "id": "kWGXpI70NmRO"
      },
      "source": [
        "# 영어점수 60 ~ 70, 내림차순\n",
        "df_exam[(df_exam.english >= 60) & (df_exam.english < 70)].sort_values(by='english', ascending=False)"
      ],
      "execution_count": null,
      "outputs": []
    },
    {
      "cell_type": "code",
      "metadata": {
        "id": "FvcEktEVNp2m"
      },
      "source": [
        "# 파생변수\n",
        "df_exam['total'] = df_exam.math + df_exam.english + df_exam.science\n",
        "df_exam['mean'] = df_exam.total / 3\n",
        "df_exam['grade'] = ['A' if m >= 90 else \n",
        "                    'B' if m >= 80 else\n",
        "                    'C' if m >= 70 else\n",
        "                    'D' if m >= 60 else 'F' for m in df_exam['mean']]\n",
        "\n",
        "df_exam"
      ],
      "execution_count": null,
      "outputs": []
    }
  ]
}